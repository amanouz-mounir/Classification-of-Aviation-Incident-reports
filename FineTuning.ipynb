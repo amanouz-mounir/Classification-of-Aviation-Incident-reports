{
  "nbformat": 4,
  "nbformat_minor": 0,
  "metadata": {
    "colab": {
      "provenance": [],
      "collapsed_sections": [
        "YuXrqG6hNoci",
        "bnoTSacmNRnm",
        "X2IFIiBSiAQi",
        "dYCtJvOmiHR-",
        "Eev2mrhJiM5O",
        "8H2uppVFhip7",
        "UfB4pZp4cEGz"
      ],
      "include_colab_link": true
    },
    "kernelspec": {
      "name": "python3",
      "display_name": "Python 3"
    },
    "language_info": {
      "name": "python"
    }
  },
  "cells": [
    {
      "cell_type": "markdown",
      "metadata": {
        "id": "view-in-github",
        "colab_type": "text"
      },
      "source": [
        "<a href=\"https://colab.research.google.com/github/amanouz-mounir/Classification-of-Aviation-Incident-reports/blob/main/FineTuning.ipynb\" target=\"_parent\"><img src=\"https://colab.research.google.com/assets/colab-badge.svg\" alt=\"Open In Colab\"/></a>"
      ]
    },
    {
      "cell_type": "markdown",
      "source": [
        "On vérifie que le GPU est activé\n",
        "\n"
      ],
      "metadata": {
        "id": "C3cP3al8O2MU"
      }
    },
    {
      "cell_type": "code",
      "execution_count": null,
      "metadata": {
        "colab": {
          "base_uri": "https://localhost:8080/"
        },
        "id": "Bub9rtoFMsTL",
        "outputId": "dc050797-1306-4298-cb98-292ad64d2492"
      },
      "outputs": [
        {
          "output_type": "execute_result",
          "data": {
            "text/plain": [
              "[PhysicalDevice(name='/physical_device:GPU:0', device_type='GPU')]"
            ]
          },
          "metadata": {},
          "execution_count": 1
        }
      ],
      "source": [
        "import tensorflow as tf\n",
        "tf.config.list_physical_devices('GPU')\n"
      ]
    },
    {
      "cell_type": "code",
      "source": [
        "from google.colab import drive\n",
        "drive.flush_and_unmount()"
      ],
      "metadata": {
        "id": "HqTsU5I3Hms5"
      },
      "execution_count": null,
      "outputs": []
    },
    {
      "cell_type": "markdown",
      "source": [
        "On importe les différents framework qu'on va utiliser"
      ],
      "metadata": {
        "id": "GoAd9pBCO6Sq"
      }
    },
    {
      "cell_type": "code",
      "source": [
        "!pip install transformers[torch]\n",
        "\n",
        "import pandas as pd\n",
        "import numpy as np\n",
        "import torch\n",
        "\n",
        "from torch.utils.data.dataset import Dataset\n",
        "from transformers import TrainingArguments, Trainer, AutoTokenizer, AutoModelForSequenceClassification\n",
        "from sklearn.model_selection import train_test_split"
      ],
      "metadata": {
        "colab": {
          "base_uri": "https://localhost:8080/"
        },
        "id": "mAULHO_kNxBx",
        "outputId": "b73baf23-3969-4892-dd12-50f0d7f3bf4c"
      },
      "execution_count": null,
      "outputs": [
        {
          "output_type": "stream",
          "name": "stdout",
          "text": [
            "Requirement already satisfied: transformers[torch] in /usr/local/lib/python3.11/dist-packages (4.51.3)\n",
            "Requirement already satisfied: filelock in /usr/local/lib/python3.11/dist-packages (from transformers[torch]) (3.18.0)\n",
            "Requirement already satisfied: huggingface-hub<1.0,>=0.30.0 in /usr/local/lib/python3.11/dist-packages (from transformers[torch]) (0.30.2)\n",
            "Requirement already satisfied: numpy>=1.17 in /usr/local/lib/python3.11/dist-packages (from transformers[torch]) (2.0.2)\n",
            "Requirement already satisfied: packaging>=20.0 in /usr/local/lib/python3.11/dist-packages (from transformers[torch]) (24.2)\n",
            "Requirement already satisfied: pyyaml>=5.1 in /usr/local/lib/python3.11/dist-packages (from transformers[torch]) (6.0.2)\n",
            "Requirement already satisfied: regex!=2019.12.17 in /usr/local/lib/python3.11/dist-packages (from transformers[torch]) (2024.11.6)\n",
            "Requirement already satisfied: requests in /usr/local/lib/python3.11/dist-packages (from transformers[torch]) (2.32.3)\n",
            "Requirement already satisfied: tokenizers<0.22,>=0.21 in /usr/local/lib/python3.11/dist-packages (from transformers[torch]) (0.21.1)\n",
            "Requirement already satisfied: safetensors>=0.4.3 in /usr/local/lib/python3.11/dist-packages (from transformers[torch]) (0.5.3)\n",
            "Requirement already satisfied: tqdm>=4.27 in /usr/local/lib/python3.11/dist-packages (from transformers[torch]) (4.67.1)\n",
            "Requirement already satisfied: torch>=2.0 in /usr/local/lib/python3.11/dist-packages (from transformers[torch]) (2.6.0+cu124)\n",
            "Requirement already satisfied: accelerate>=0.26.0 in /usr/local/lib/python3.11/dist-packages (from transformers[torch]) (1.5.2)\n",
            "Requirement already satisfied: psutil in /usr/local/lib/python3.11/dist-packages (from accelerate>=0.26.0->transformers[torch]) (5.9.5)\n",
            "Requirement already satisfied: fsspec>=2023.5.0 in /usr/local/lib/python3.11/dist-packages (from huggingface-hub<1.0,>=0.30.0->transformers[torch]) (2025.3.2)\n",
            "Requirement already satisfied: typing-extensions>=3.7.4.3 in /usr/local/lib/python3.11/dist-packages (from huggingface-hub<1.0,>=0.30.0->transformers[torch]) (4.13.2)\n",
            "Requirement already satisfied: networkx in /usr/local/lib/python3.11/dist-packages (from torch>=2.0->transformers[torch]) (3.4.2)\n",
            "Requirement already satisfied: jinja2 in /usr/local/lib/python3.11/dist-packages (from torch>=2.0->transformers[torch]) (3.1.6)\n",
            "Requirement already satisfied: nvidia-cuda-nvrtc-cu12==12.4.127 in /usr/local/lib/python3.11/dist-packages (from torch>=2.0->transformers[torch]) (12.4.127)\n",
            "Requirement already satisfied: nvidia-cuda-runtime-cu12==12.4.127 in /usr/local/lib/python3.11/dist-packages (from torch>=2.0->transformers[torch]) (12.4.127)\n",
            "Requirement already satisfied: nvidia-cuda-cupti-cu12==12.4.127 in /usr/local/lib/python3.11/dist-packages (from torch>=2.0->transformers[torch]) (12.4.127)\n",
            "Requirement already satisfied: nvidia-cudnn-cu12==9.1.0.70 in /usr/local/lib/python3.11/dist-packages (from torch>=2.0->transformers[torch]) (9.1.0.70)\n",
            "Requirement already satisfied: nvidia-cublas-cu12==12.4.5.8 in /usr/local/lib/python3.11/dist-packages (from torch>=2.0->transformers[torch]) (12.4.5.8)\n",
            "Requirement already satisfied: nvidia-cufft-cu12==11.2.1.3 in /usr/local/lib/python3.11/dist-packages (from torch>=2.0->transformers[torch]) (11.2.1.3)\n",
            "Requirement already satisfied: nvidia-curand-cu12==10.3.5.147 in /usr/local/lib/python3.11/dist-packages (from torch>=2.0->transformers[torch]) (10.3.5.147)\n",
            "Requirement already satisfied: nvidia-cusolver-cu12==11.6.1.9 in /usr/local/lib/python3.11/dist-packages (from torch>=2.0->transformers[torch]) (11.6.1.9)\n",
            "Requirement already satisfied: nvidia-cusparse-cu12==12.3.1.170 in /usr/local/lib/python3.11/dist-packages (from torch>=2.0->transformers[torch]) (12.3.1.170)\n",
            "Requirement already satisfied: nvidia-cusparselt-cu12==0.6.2 in /usr/local/lib/python3.11/dist-packages (from torch>=2.0->transformers[torch]) (0.6.2)\n",
            "Requirement already satisfied: nvidia-nccl-cu12==2.21.5 in /usr/local/lib/python3.11/dist-packages (from torch>=2.0->transformers[torch]) (2.21.5)\n",
            "Requirement already satisfied: nvidia-nvtx-cu12==12.4.127 in /usr/local/lib/python3.11/dist-packages (from torch>=2.0->transformers[torch]) (12.4.127)\n",
            "Requirement already satisfied: nvidia-nvjitlink-cu12==12.4.127 in /usr/local/lib/python3.11/dist-packages (from torch>=2.0->transformers[torch]) (12.4.127)\n",
            "Requirement already satisfied: triton==3.2.0 in /usr/local/lib/python3.11/dist-packages (from torch>=2.0->transformers[torch]) (3.2.0)\n",
            "Requirement already satisfied: sympy==1.13.1 in /usr/local/lib/python3.11/dist-packages (from torch>=2.0->transformers[torch]) (1.13.1)\n",
            "Requirement already satisfied: mpmath<1.4,>=1.1.0 in /usr/local/lib/python3.11/dist-packages (from sympy==1.13.1->torch>=2.0->transformers[torch]) (1.3.0)\n",
            "Requirement already satisfied: charset-normalizer<4,>=2 in /usr/local/lib/python3.11/dist-packages (from requests->transformers[torch]) (3.4.1)\n",
            "Requirement already satisfied: idna<4,>=2.5 in /usr/local/lib/python3.11/dist-packages (from requests->transformers[torch]) (3.10)\n",
            "Requirement already satisfied: urllib3<3,>=1.21.1 in /usr/local/lib/python3.11/dist-packages (from requests->transformers[torch]) (2.3.0)\n",
            "Requirement already satisfied: certifi>=2017.4.17 in /usr/local/lib/python3.11/dist-packages (from requests->transformers[torch]) (2025.1.31)\n",
            "Requirement already satisfied: MarkupSafe>=2.0 in /usr/local/lib/python3.11/dist-packages (from jinja2->torch>=2.0->transformers[torch]) (3.0.2)\n"
          ]
        }
      ]
    },
    {
      "cell_type": "markdown",
      "source": [
        "# **Creation du dataframe des données**"
      ],
      "metadata": {
        "id": "YuXrqG6hNoci"
      }
    },
    {
      "cell_type": "markdown",
      "source": [
        "On fabrique le dataframe des labels"
      ],
      "metadata": {
        "id": "KPz7b5cGPAul"
      }
    },
    {
      "cell_type": "code",
      "source": [
        "\n",
        "# Charger le fichier\n",
        "df = pd.read_csv(\"TrainCategoryMatrix.txt\", header=None)\n",
        "\n",
        "# Binariser les valeurs (-1 devient 0, 1 reste 1)\n",
        "df_binarized = df.replace(-1, 0)\n",
        "\n",
        "print(df_binarized.shape)\n",
        "# Afficher les premières lignes pour vérification\n",
        "print(df_binarized.head())\n"
      ],
      "metadata": {
        "colab": {
          "base_uri": "https://localhost:8080/"
        },
        "collapsed": true,
        "id": "DtO_W_EWkZ7F",
        "outputId": "d1ddf636-6645-4386-ff99-e1c4d544fbaa"
      },
      "execution_count": null,
      "outputs": [
        {
          "output_type": "stream",
          "name": "stdout",
          "text": [
            "(21519, 22)\n",
            "   0   1   2   3   4   5   6   7   8   9   ...  12  13  14  15  16  17  18  \\\n",
            "0   0   1   0   0   0   1   1   0   0   0  ...   0   0   0   0   0   0   0   \n",
            "1   0   0   0   0   0   0   0   0   0   0  ...   0   0   0   0   0   0   1   \n",
            "2   0   1   0   0   0   0   0   0   0   0  ...   1   1   0   0   0   0   1   \n",
            "3   0   0   0   0   0   0   0   0   0   0  ...   0   0   0   0   0   1   0   \n",
            "4   0   0   0   0   0   0   0   0   0   0  ...   0   0   0   0   0   0   0   \n",
            "\n",
            "   19  20  21  \n",
            "0   0   0   0  \n",
            "1   0   0   0  \n",
            "2   0   1   0  \n",
            "3   0   0   0  \n",
            "4   0   0   0  \n",
            "\n",
            "[5 rows x 22 columns]\n"
          ]
        }
      ]
    },
    {
      "cell_type": "markdown",
      "source": [
        "On importe les données textuelles pour les ajouter au dataframe des labels"
      ],
      "metadata": {
        "id": "fD5sKWuWmLir"
      }
    },
    {
      "cell_type": "code",
      "source": [
        "import pandas as pd\n",
        "\n",
        "# Charger le fichier\n",
        "file_path = \"/content/TrainingData.txt\"\n",
        "\n",
        "print(\"Importation faite\")\n",
        "\n",
        "# Lire et structurer le fichier\n",
        "data = []\n",
        "current_index = None\n",
        "current_text = []\n",
        "\n",
        "with open(file_path, \"r\", encoding=\"utf-8\") as file:\n",
        "    for line in file:\n",
        "        line = line.strip()\n",
        "        if \"~\" in line:  # Nouvelle panne détectée\n",
        "            if current_index is not None:  # Sauvegarde de l'ancienne panne\n",
        "                data.append((current_index, \" \".join(current_text)))\n",
        "            current_index, text = line.split(\"~\", 1)  # Séparer l'index et le texte\n",
        "            current_index = int(current_index)  # Convertir l'index en entier\n",
        "            current_text = [text]  # Démarrer un nouveau texte\n",
        "        else:\n",
        "            current_text.append(line)  # Ajouter la ligne à la panne en cours\n",
        "\n",
        "# Ajouter la dernière panne\n",
        "if current_index is not None:\n",
        "    data.append((current_index, \" \".join(current_text)))\n",
        "\n",
        "# Créer un DataFrame texte\n",
        "df_text = pd.DataFrame(data, columns=[\"Index\", \"Text\"])\n",
        "\n",
        "# 🔄 Fusionner en s'assurant que les indices correspondent\n",
        "df_final = df_binarized.copy()\n",
        "df_final[\"Text\"] = df_final.index.map(df_text.set_index(\"Index\")[\"Text\"])\n",
        "\n",
        "# 📌 Améliorer l'affichage en tronquant les textes longs\n",
        "pd.set_option('display.max_colwidth', 100)  # Augmenter la largeur max des colonnes\n",
        "print(df_final.head())  # Affichage propre\n",
        "print(df_final.tail(10))\n",
        "\n",
        "# 📤 Exporter si besoin\n",
        "df_final.to_csv(\"Dataset_final_VRAI.csv\", index=True)\n"
      ],
      "metadata": {
        "id": "EKMSl7meOoRo",
        "colab": {
          "base_uri": "https://localhost:8080/",
          "height": 232
        },
        "outputId": "65bcf942-8520-4514-961c-b5ef965faf6b"
      },
      "execution_count": null,
      "outputs": [
        {
          "output_type": "stream",
          "name": "stdout",
          "text": [
            "Importation faite\n"
          ]
        },
        {
          "output_type": "error",
          "ename": "FileNotFoundError",
          "evalue": "[Errno 2] No such file or directory: '/content/TrainingData.txt'",
          "traceback": [
            "\u001b[0;31m---------------------------------------------------------------------------\u001b[0m",
            "\u001b[0;31mFileNotFoundError\u001b[0m                         Traceback (most recent call last)",
            "\u001b[0;32m<ipython-input-1-56e0c18dc83c>\u001b[0m in \u001b[0;36m<cell line: 0>\u001b[0;34m()\u001b[0m\n\u001b[1;32m     11\u001b[0m \u001b[0mcurrent_text\u001b[0m \u001b[0;34m=\u001b[0m \u001b[0;34m[\u001b[0m\u001b[0;34m]\u001b[0m\u001b[0;34m\u001b[0m\u001b[0;34m\u001b[0m\u001b[0m\n\u001b[1;32m     12\u001b[0m \u001b[0;34m\u001b[0m\u001b[0m\n\u001b[0;32m---> 13\u001b[0;31m \u001b[0;32mwith\u001b[0m \u001b[0mopen\u001b[0m\u001b[0;34m(\u001b[0m\u001b[0mfile_path\u001b[0m\u001b[0;34m,\u001b[0m \u001b[0;34m\"r\"\u001b[0m\u001b[0;34m,\u001b[0m \u001b[0mencoding\u001b[0m\u001b[0;34m=\u001b[0m\u001b[0;34m\"utf-8\"\u001b[0m\u001b[0;34m)\u001b[0m \u001b[0;32mas\u001b[0m \u001b[0mfile\u001b[0m\u001b[0;34m:\u001b[0m\u001b[0;34m\u001b[0m\u001b[0;34m\u001b[0m\u001b[0m\n\u001b[0m\u001b[1;32m     14\u001b[0m     \u001b[0;32mfor\u001b[0m \u001b[0mline\u001b[0m \u001b[0;32min\u001b[0m \u001b[0mfile\u001b[0m\u001b[0;34m:\u001b[0m\u001b[0;34m\u001b[0m\u001b[0;34m\u001b[0m\u001b[0m\n\u001b[1;32m     15\u001b[0m         \u001b[0mline\u001b[0m \u001b[0;34m=\u001b[0m \u001b[0mline\u001b[0m\u001b[0;34m.\u001b[0m\u001b[0mstrip\u001b[0m\u001b[0;34m(\u001b[0m\u001b[0;34m)\u001b[0m\u001b[0;34m\u001b[0m\u001b[0;34m\u001b[0m\u001b[0m\n",
            "\u001b[0;31mFileNotFoundError\u001b[0m: [Errno 2] No such file or directory: '/content/TrainingData.txt'"
          ]
        }
      ]
    },
    {
      "cell_type": "code",
      "source": [
        "import re\n",
        "from nltk.corpus import stopwords\n",
        "from nltk.tokenize import word_tokenize\n",
        "from nltk.stem import WordNetLemmatizer\n",
        "import nltk\n",
        "# Spécifie un répertoire pour télécharger les ressources nltk\n",
        "\n",
        "# Téléchargement des ressources nécessaires\n",
        "nltk.download('stopwords')\n",
        "nltk.download('punkt_tab')\n",
        "nltk.download('wordnet')\n",
        "\n",
        "def clean_text(text):\n",
        "\n",
        "    # 1. Supprimer les balises et valeurs inutiles comme [Missing Value] (non significatif)\n",
        "    text = re.sub(r'\\[Missing Value\\]', '', text)\n",
        "\n",
        "\n",
        "    # 2. Supprimer les caractères spéciaux, ponctuation et chiffres\n",
        "    text = re.sub(r'[^a-zA-Z\\s]', '', text)\n",
        "\n",
        "    # 3. Tokenisation : Diviser le texte en mots individuels (tokens)\n",
        "    tokens = word_tokenize(text)\n",
        "\n",
        "    # 4. Supprimer les mots vides (stopwords) : Les mots comme \"the\", \"and\" n'ont pas d'importance pour l'analyse\n",
        "    stop_words = set(stopwords.words('english'))  # Liste de mots vides en anglais\n",
        "    tokens = [word for word in tokens if word not in stop_words]\n",
        "\n",
        "\n",
        "    # 5. Lemmatisation : Réduire les mots à leur forme de base (par exemple \"running\" devient \"run\")\n",
        "    lemmatizer = WordNetLemmatizer()\n",
        "    tokens = [lemmatizer.lemmatize(word) for word in tokens]\n",
        "\n",
        "\n",
        "    # 6. Rejoindre les tokens pour reformer un texte nettoyé\n",
        "    cleaned_text = ' '.join(tokens)\n",
        "\n",
        "    return cleaned_text\n",
        "\n",
        "\n"
      ],
      "metadata": {
        "colab": {
          "base_uri": "https://localhost:8080/"
        },
        "id": "qnJfCgCyN8ap",
        "outputId": "7f496e9c-cd0c-4158-d7d2-e2707af2cc5d"
      },
      "execution_count": null,
      "outputs": [
        {
          "output_type": "stream",
          "name": "stderr",
          "text": [
            "[nltk_data] Downloading package stopwords to /root/nltk_data...\n",
            "[nltk_data]   Unzipping corpora/stopwords.zip.\n",
            "[nltk_data] Downloading package punkt_tab to /root/nltk_data...\n",
            "[nltk_data]   Unzipping tokenizers/punkt_tab.zip.\n",
            "[nltk_data] Downloading package wordnet to /root/nltk_data...\n"
          ]
        }
      ]
    },
    {
      "cell_type": "code",
      "source": [
        "df_final['Text'] = df_final['Text'].astype(str).apply(clean_text)"
      ],
      "metadata": {
        "id": "Oc0BwBebOFpK"
      },
      "execution_count": null,
      "outputs": []
    },
    {
      "cell_type": "code",
      "source": [
        "print(df_final.head())\n"
      ],
      "metadata": {
        "colab": {
          "base_uri": "https://localhost:8080/"
        },
        "id": "9pSm8RbhPAzf",
        "outputId": "80b8adcd-86d0-4ec1-86d6-ad40796319e5"
      },
      "execution_count": null,
      "outputs": [
        {
          "output_type": "stream",
          "name": "stdout",
          "text": [
            "   Indice  0  1  2  3  4  5  6  7  8  ...  13  14  15  16  17  18  19  20  21  \\\n",
            "0       1  0  1  0  0  0  1  1  0  0  ...   0   0   0   0   0   0   0   0   0   \n",
            "1       2  0  0  0  0  0  0  0  0  0  ...   0   0   0   0   0   1   0   0   0   \n",
            "2       3  0  1  0  0  0  0  0  0  0  ...   1   0   0   0   0   1   0   1   0   \n",
            "3       4  0  0  0  0  0  0  0  0  0  ...   0   0   0   0   1   0   0   0   0   \n",
            "4       5  0  0  0  0  0  0  0  0  0  ...   0   0   0   0   0   0   0   0   0   \n",
            "\n",
            "                                                Text  \n",
            "0  locate distancemeasuringequipment FROM runway ...  \n",
            "1  IN I BECAME AWARE THAT MY ULTRASONIC AND EDDY ...  \n",
            "2  visualflightrules FROM foot PIERCE flightlevel...  \n",
            "3  JUST PRIOR TO rotate A DEER RAN ONTO THE runwa...  \n",
            "4  climb ON degree head TO foot GOT trafficalerta...  \n",
            "\n",
            "[5 rows x 24 columns]\n"
          ]
        }
      ]
    },
    {
      "cell_type": "code",
      "source": [
        "# Sauvegarde du DataFrame nettoyé\n",
        "df_final.to_csv(\"/content/Dataset_final_nettoye.csv\", index=False)\n"
      ],
      "metadata": {
        "id": "nSvnWQJHOqzQ"
      },
      "execution_count": null,
      "outputs": []
    },
    {
      "cell_type": "markdown",
      "source": [
        "# **Chargement des données de dataframe**"
      ],
      "metadata": {
        "id": "bnoTSacmNRnm"
      }
    },
    {
      "cell_type": "code",
      "source": [
        "# Charger le fichier CSV\n",
        "df_final = pd.read_csv(\"/content/Dataset_final_nettoye.csv\")\n",
        "# Afficher les premières lignes du DataFrame\n",
        "print(df_final.head())\n",
        "print(\"Affichage de la taille du dataframe:\", df_final.shape)"
      ],
      "metadata": {
        "colab": {
          "base_uri": "https://localhost:8080/",
          "height": 214
        },
        "id": "2j9SESP26owO",
        "outputId": "b5f867b6-9cd6-452b-a183-c07757023610"
      },
      "execution_count": null,
      "outputs": [
        {
          "output_type": "error",
          "ename": "NameError",
          "evalue": "name 'pd' is not defined",
          "traceback": [
            "\u001b[0;31m---------------------------------------------------------------------------\u001b[0m",
            "\u001b[0;31mNameError\u001b[0m                                 Traceback (most recent call last)",
            "\u001b[0;32m<ipython-input-5-c0f6bee09d59>\u001b[0m in \u001b[0;36m<cell line: 0>\u001b[0;34m()\u001b[0m\n\u001b[1;32m      1\u001b[0m \u001b[0;31m# Charger le fichier CSV\u001b[0m\u001b[0;34m\u001b[0m\u001b[0;34m\u001b[0m\u001b[0m\n\u001b[0;32m----> 2\u001b[0;31m \u001b[0mdf_final\u001b[0m \u001b[0;34m=\u001b[0m \u001b[0mpd\u001b[0m\u001b[0;34m.\u001b[0m\u001b[0mread_csv\u001b[0m\u001b[0;34m(\u001b[0m\u001b[0;34m\"/content/Dataset_final_nettoye.csv\"\u001b[0m\u001b[0;34m)\u001b[0m\u001b[0;34m\u001b[0m\u001b[0;34m\u001b[0m\u001b[0m\n\u001b[0m\u001b[1;32m      3\u001b[0m \u001b[0;31m# Afficher les premières lignes du DataFrame\u001b[0m\u001b[0;34m\u001b[0m\u001b[0;34m\u001b[0m\u001b[0m\n\u001b[1;32m      4\u001b[0m \u001b[0mprint\u001b[0m\u001b[0;34m(\u001b[0m\u001b[0mdf_final\u001b[0m\u001b[0;34m.\u001b[0m\u001b[0mhead\u001b[0m\u001b[0;34m(\u001b[0m\u001b[0;34m)\u001b[0m\u001b[0;34m)\u001b[0m\u001b[0;34m\u001b[0m\u001b[0;34m\u001b[0m\u001b[0m\n\u001b[1;32m      5\u001b[0m \u001b[0mprint\u001b[0m\u001b[0;34m(\u001b[0m\u001b[0;34m\"Affichage de la taille du dataframe:\"\u001b[0m\u001b[0;34m,\u001b[0m \u001b[0mdf_final\u001b[0m\u001b[0;34m.\u001b[0m\u001b[0mshape\u001b[0m\u001b[0;34m)\u001b[0m\u001b[0;34m\u001b[0m\u001b[0;34m\u001b[0m\u001b[0m\n",
            "\u001b[0;31mNameError\u001b[0m: name 'pd' is not defined"
          ]
        }
      ]
    },
    {
      "cell_type": "markdown",
      "source": [
        "# Préparation de l'entrainement"
      ],
      "metadata": {
        "id": "X2IFIiBSiAQi"
      }
    },
    {
      "cell_type": "code",
      "source": [
        "test_split = 0.2\n",
        "train_df, test_df = train_test_split(\n",
        "    df_final,\n",
        "    test_size=test_split,\n",
        ")\n",
        "print(f\"Number of rows in training set: {len(train_df)}\")\n",
        "print(f\"Number of rows in test set: {len(test_df)}\")"
      ],
      "metadata": {
        "colab": {
          "base_uri": "https://localhost:8080/"
        },
        "id": "tsxmq5pvjyIC",
        "outputId": "d0b29cc2-c01a-49b6-d4c3-11e4f92662d2"
      },
      "execution_count": null,
      "outputs": [
        {
          "output_type": "stream",
          "name": "stdout",
          "text": [
            "Number of rows in training set: 17215\n",
            "Number of rows in test set: 4304\n"
          ]
        }
      ]
    },
    {
      "cell_type": "code",
      "source": [
        "# Define a list of columns that should not be chosen as label columns\n",
        "not_chosen_columns = ['Indice', 'Text']\n",
        "\n",
        "# Select label columns that are not in the list of not chosen columns\n",
        "label_columns = [col for col in df_final.columns if col not in not_chosen_columns]\n",
        "\n",
        "# Create a new DataFrame containing only the selected label columns\n",
        "df_labels_train = train_df[label_columns]\n",
        "df_labels_test = test_df[label_columns]\n",
        "\n",
        "\n",
        "# Convert the label columns to lists for each row\n",
        "labels_list_train = df_labels_train.values.tolist()\n",
        "labels_list_test = df_labels_test.values.tolist()"
      ],
      "metadata": {
        "id": "QDJ0WQSnkBxF",
        "colab": {
          "base_uri": "https://localhost:8080/",
          "height": 214
        },
        "outputId": "8d41ad19-bdb9-4437-91fc-36de276b6614"
      },
      "execution_count": null,
      "outputs": [
        {
          "output_type": "error",
          "ename": "NameError",
          "evalue": "name 'df_final' is not defined",
          "traceback": [
            "\u001b[0;31m---------------------------------------------------------------------------\u001b[0m",
            "\u001b[0;31mNameError\u001b[0m                                 Traceback (most recent call last)",
            "\u001b[0;32m<ipython-input-7-64b19f5215d0>\u001b[0m in \u001b[0;36m<cell line: 0>\u001b[0;34m()\u001b[0m\n\u001b[1;32m      3\u001b[0m \u001b[0;34m\u001b[0m\u001b[0m\n\u001b[1;32m      4\u001b[0m \u001b[0;31m# Select label columns that are not in the list of not chosen columns\u001b[0m\u001b[0;34m\u001b[0m\u001b[0;34m\u001b[0m\u001b[0m\n\u001b[0;32m----> 5\u001b[0;31m \u001b[0mlabel_columns\u001b[0m \u001b[0;34m=\u001b[0m \u001b[0;34m[\u001b[0m\u001b[0mcol\u001b[0m \u001b[0;32mfor\u001b[0m \u001b[0mcol\u001b[0m \u001b[0;32min\u001b[0m \u001b[0mdf_final\u001b[0m\u001b[0;34m.\u001b[0m\u001b[0mcolumns\u001b[0m \u001b[0;32mif\u001b[0m \u001b[0mcol\u001b[0m \u001b[0;32mnot\u001b[0m \u001b[0;32min\u001b[0m \u001b[0mnot_chosen_columns\u001b[0m\u001b[0;34m]\u001b[0m\u001b[0;34m\u001b[0m\u001b[0;34m\u001b[0m\u001b[0m\n\u001b[0m\u001b[1;32m      6\u001b[0m \u001b[0;34m\u001b[0m\u001b[0m\n\u001b[1;32m      7\u001b[0m \u001b[0;31m# Create a new DataFrame containing only the selected label columns\u001b[0m\u001b[0;34m\u001b[0m\u001b[0;34m\u001b[0m\u001b[0m\n",
            "\u001b[0;31mNameError\u001b[0m: name 'df_final' is not defined"
          ]
        }
      ]
    },
    {
      "cell_type": "code",
      "source": [
        "import os\n",
        "os.environ[\"WANDB_DISABLED\"] = \"true\"\n",
        "from torch.nn import BCEWithLogitsLoss\n",
        "\n",
        "\n",
        "\n",
        "train_texts = train_df['Text'].tolist()\n",
        "train_labels = labels_list_train\n",
        "\n",
        "eval_texts = test_df['Text'].tolist()\n",
        "eval_labels = labels_list_test\n",
        "\n",
        "tokenizer = AutoTokenizer.from_pretrained('bert-base-uncased', do_lower_case=True)\n",
        "\n",
        "train_encodings = tokenizer(train_texts, padding=\"max_length\", truncation=True, max_length=512)\n",
        "eval_encodings = tokenizer(eval_texts, padding=\"max_length\", truncation=True, max_length=512)\n",
        "\n",
        "\n",
        "class TextClassifierDataset(Dataset):\n",
        "    def __init__(self, encodings, labels):\n",
        "        self.encodings = encodings\n",
        "        self.labels = labels\n",
        "\n",
        "    def __len__(self):\n",
        "        return len(self.labels)\n",
        "\n",
        "    def __getitem__(self, idx):\n",
        "        item = {key: torch.tensor(val[idx]) for key, val in self.encodings.items()}\n",
        "        item[\"labels\"] = torch.tensor(self.labels[idx], dtype=torch.float)\n",
        "        return item\n",
        "\n",
        "train_dataset = TextClassifierDataset(train_encodings, train_labels)\n",
        "eval_dataset = TextClassifierDataset(eval_encodings, eval_labels)\n",
        "\n",
        "model = AutoModelForSequenceClassification.from_pretrained(\n",
        "    \"bert-base-uncased\",\n",
        "    problem_type=\"multi_label_classification\",\n",
        "    num_labels=22\n",
        ")\n",
        "\n",
        "training_arguments = TrainingArguments(\n",
        "    output_dir=\".\",\n",
        "    eval_strategy=\"epoch\",\n",
        "    per_device_train_batch_size=16,\n",
        "    per_device_eval_batch_size=16,\n",
        "    num_train_epochs=3,\n",
        ")\n",
        "\n",
        "trainer = Trainer(\n",
        "    model=model,\n",
        "    args=training_arguments,\n",
        "    train_dataset=train_dataset,\n",
        "    eval_dataset=eval_dataset,\n",
        ")\n",
        "\n"
      ],
      "metadata": {
        "colab": {
          "base_uri": "https://localhost:8080/"
        },
        "id": "dK6KkA_VkRYf",
        "outputId": "081f76d2-ab12-44d9-9d81-10b43bcfb618"
      },
      "execution_count": null,
      "outputs": [
        {
          "output_type": "stream",
          "name": "stderr",
          "text": [
            "Some weights of BertForSequenceClassification were not initialized from the model checkpoint at bert-base-uncased and are newly initialized: ['classifier.bias', 'classifier.weight']\n",
            "You should probably TRAIN this model on a down-stream task to be able to use it for predictions and inference.\n",
            "Using the `WANDB_DISABLED` environment variable is deprecated and will be removed in v5. Use the --report_to flag to control the integrations used for logging result (for instance --report_to none).\n"
          ]
        }
      ]
    },
    {
      "cell_type": "markdown",
      "source": [
        "# Entrainement du modèle"
      ],
      "metadata": {
        "id": "dYCtJvOmiHR-"
      }
    },
    {
      "cell_type": "code",
      "source": [
        "# Lancement de l'entraînement\n",
        "trainer.train()\n"
      ],
      "metadata": {
        "id": "JNZlGPjCKNln",
        "colab": {
          "base_uri": "https://localhost:8080/",
          "height": 205
        },
        "outputId": "6a6a7bf8-0781-407c-b1e0-1abe38f7ee37"
      },
      "execution_count": null,
      "outputs": [
        {
          "output_type": "display_data",
          "data": {
            "text/plain": [
              "<IPython.core.display.HTML object>"
            ],
            "text/html": [
              "\n",
              "    <div>\n",
              "      \n",
              "      <progress value='3228' max='3228' style='width:300px; height:20px; vertical-align: middle;'></progress>\n",
              "      [3228/3228 1:25:27, Epoch 3/3]\n",
              "    </div>\n",
              "    <table border=\"1\" class=\"dataframe\">\n",
              "  <thead>\n",
              " <tr style=\"text-align: left;\">\n",
              "      <th>Epoch</th>\n",
              "      <th>Training Loss</th>\n",
              "      <th>Validation Loss</th>\n",
              "    </tr>\n",
              "  </thead>\n",
              "  <tbody>\n",
              "    <tr>\n",
              "      <td>1</td>\n",
              "      <td>0.159500</td>\n",
              "      <td>0.147046</td>\n",
              "    </tr>\n",
              "    <tr>\n",
              "      <td>2</td>\n",
              "      <td>0.132300</td>\n",
              "      <td>0.134216</td>\n",
              "    </tr>\n",
              "    <tr>\n",
              "      <td>3</td>\n",
              "      <td>0.112200</td>\n",
              "      <td>0.128955</td>\n",
              "    </tr>\n",
              "  </tbody>\n",
              "</table><p>"
            ]
          },
          "metadata": {}
        },
        {
          "output_type": "execute_result",
          "data": {
            "text/plain": [
              "TrainOutput(global_step=3228, training_loss=0.1450630486971679, metrics={'train_runtime': 5129.8343, 'train_samples_per_second': 10.068, 'train_steps_per_second': 0.629, 'total_flos': 1.35908105439744e+16, 'train_loss': 0.1450630486971679, 'epoch': 3.0})"
            ]
          },
          "metadata": {},
          "execution_count": 9
        }
      ]
    },
    {
      "cell_type": "markdown",
      "source": [
        "# Sauvegarde du modèle"
      ],
      "metadata": {
        "id": "Eev2mrhJiM5O"
      }
    },
    {
      "cell_type": "code",
      "source": [
        "# Sauvegarder le modèle\n",
        "trainer.save_model(\"mon_modele_sauvegardeF\")\n",
        "# Sauvegarder le tokenizer\n",
        "tokenizer.save_pretrained(\"mon_modele_sauvegardeF\")\n",
        "\n"
      ],
      "metadata": {
        "id": "tixoUBGX7g-f",
        "colab": {
          "base_uri": "https://localhost:8080/"
        },
        "outputId": "b541e0b5-af01-4f5c-b20f-f790ac9a2a73"
      },
      "execution_count": null,
      "outputs": [
        {
          "output_type": "execute_result",
          "data": {
            "text/plain": [
              "('mon_modele_sauvegardeF/tokenizer_config.json',\n",
              " 'mon_modele_sauvegardeF/special_tokens_map.json',\n",
              " 'mon_modele_sauvegardeF/vocab.txt',\n",
              " 'mon_modele_sauvegardeF/added_tokens.json',\n",
              " 'mon_modele_sauvegardeF/tokenizer.json')"
            ]
          },
          "metadata": {},
          "execution_count": 43
        }
      ]
    },
    {
      "cell_type": "code",
      "source": [
        "import shutil\n",
        "\n",
        "# Compresser le répertoire en fichier zip\n",
        "shutil.make_archive('/content/mon_modele_sauvegardeF', 'zip', 'mon_modele_sauvegardeF')"
      ],
      "metadata": {
        "colab": {
          "base_uri": "https://localhost:8080/",
          "height": 35
        },
        "id": "P5EaCRoWgs15",
        "outputId": "4a54c136-5c74-4016-c0a1-8ad7bb8d518e"
      },
      "execution_count": null,
      "outputs": [
        {
          "output_type": "execute_result",
          "data": {
            "text/plain": [
              "'/content/mon_modele_sauvegardeF.zip'"
            ],
            "application/vnd.google.colaboratory.intrinsic+json": {
              "type": "string"
            }
          },
          "metadata": {},
          "execution_count": 45
        }
      ]
    },
    {
      "cell_type": "markdown",
      "source": [
        "# Chargement du modèle"
      ],
      "metadata": {
        "id": "8H2uppVFhip7"
      }
    },
    {
      "cell_type": "markdown",
      "source": [
        "Dezippage"
      ],
      "metadata": {
        "id": "diwRwJFBhr0g"
      }
    },
    {
      "cell_type": "code",
      "source": [
        "import zipfile\n",
        "\n",
        "# Décompresser le fichier zip\n",
        "with zipfile.ZipFile('/content/mon_modele_sauvegardeF.zip', 'r') as zip_ref:\n",
        "    zip_ref.extractall('/content/mon_modele_sauvegardeF')\n"
      ],
      "metadata": {
        "id": "yTsCJUpphaTx"
      },
      "execution_count": null,
      "outputs": []
    },
    {
      "cell_type": "markdown",
      "source": [
        "Importation du modèle"
      ],
      "metadata": {
        "id": "s6Z46ugNhtwX"
      }
    },
    {
      "cell_type": "code",
      "source": [
        "from transformers import AutoModelForSequenceClassification, AutoTokenizer\n",
        "\n",
        "# Recharger le modèle sauvegardé\n",
        "model = AutoModelForSequenceClassification.from_pretrained('/content/mon_modele_sauvegardeF')\n",
        "\n",
        "# Recharger le tokenizer sauvegardé\n",
        "tokenizer = AutoTokenizer.from_pretrained('/content/mon_modele_sauvegardeF')\n"
      ],
      "metadata": {
        "id": "6aoTd45MhhfU"
      },
      "execution_count": null,
      "outputs": []
    },
    {
      "cell_type": "markdown",
      "source": [
        "# Prédictions"
      ],
      "metadata": {
        "id": "yEjkbzU2hn6H"
      }
    },
    {
      "cell_type": "markdown",
      "source": [
        "tokenisation des textes de text_list à l’aide du tokenizer du modèle."
      ],
      "metadata": {
        "id": "If56ZBqoOvff"
      }
    },
    {
      "cell_type": "code",
      "source": [
        "sub_encodings = tokenizer(text_list, padding=\"max_length\", truncation=True, max_length=512)\n"
      ],
      "metadata": {
        "id": "B04jRqPuOtys"
      },
      "execution_count": null,
      "outputs": []
    },
    {
      "cell_type": "markdown",
      "source": [
        "Creation d'une liste avec tout les textes de test nettoyés"
      ],
      "metadata": {
        "id": "InZ8xaCINbEX"
      }
    },
    {
      "cell_type": "code",
      "source": [
        "# Lecture du fichier TestData.txt\n",
        "text_list = []\n",
        "with open('TestData.txt', 'r') as file:\n",
        "    lines = file.readlines()\n",
        "\n",
        "# Séparer chaque ligne, appliquer la fonction de nettoyage, et ajouter au text_list\n",
        "for line in lines:\n",
        "    # Séparer le numéro et le texte\n",
        "    num, text = line.split('~', 1)\n",
        "    cleaned_text = clean_text(text)\n",
        "    text_list.append(cleaned_text)"
      ],
      "metadata": {
        "colab": {
          "base_uri": "https://localhost:8080/"
        },
        "id": "V2B4KPXWKyTK",
        "outputId": "8ff4289e-f90f-4e2f-ca98-130f271e84a5"
      },
      "execution_count": null,
      "outputs": [
        {
          "output_type": "stream",
          "name": "stdout",
          "text": [
            "['AFTER takeoff ON runway A loudnoise WAS hear come FROM FRONT AREA OF aircraftFOR A WHILE I AND CREW THOUGHT IT WAS THE AIR drive generate THAT deploy FROM right NOSE OF aircraftUPON FURTHER troubleshoot FOUND THAT THE AIR drive generate COULD NOT HAVE deploy DUE TO ABSENCE OF icon AND message ON THE engineindicationandcrewalertingsystem systemWE immediate return TO THE airport FOR AN UNEVENTFUL landFURTHER examine AT THE GATE show THE OXYGEN accesspanel pop OPEN AFTER takeoff cause THE NOISEPRIOR TO flight THE normalpreflight show NO AJAR OR OPEN panel ON THE aircraftmoderateturbulence WAS encounter AFTER takeoffdue TO STRONG crosswind AND lowlevelwindshearadvisories IN EFFECT', 'taxi OFF THE parkingramp THE brake system fail TO STOP THE aircraftLATER determine TO BE A BAD TRUNION SWITCH IN THE right maingear NEITHER pilot HAD ani control OVER THE aircraft speed AND DUE TO frequencycongestion WE COULD NOT ALERT ground OF OUR problemBECAUSE OF THIS WE WERE UNABLE TO HOLD SHORT OF THE control PORTION OF THE airportTHE INCURSION ON THE taxiway DID NOT PUT US IN DANGER OF collide WE DID BLOCK AN intersect AFTER WE coast TO A STOPground WAS immediate notify AND COMPANY WAS call TO GET A TUG AND BRING US BACK TO THE RAMPI HAVE NEVER see train TO DEAL WITH brakefailure ON THE ground IN AN aircraft BUT I SURE WOULD LIKE TO', 'airworthinessdirective DUE EACH hour TO GREASE BLOWER bearinspect TAILROTOR DRIVE SHAFT THOMAS COUPLINGS AND check TORQUE ON TAILROTOR GEARBOX MOUNT student nutinspect DUE aircraft totaltime HAS airworthinessdirective sign OFF AT hour inspect DUE AT aircraft totaltime accomplish AT date occur number september september NO OTHER occur note TO THIS DATE MAY remind mechanic THAT airworthinessdirective MUST BE accomplish AT OR BEFORE hi DUE AND NO OVERFLY allowmechanic realize IT WAS AN OVERSIGHT ON hi PART AND IS WELL AWARE OF NO OVERFLY IS allow', 'ON descend clear TO feetcaptain SET foot IN alertI readback feetgo THROUGH foot WE WERE TOLD TO climb BACK TO feetapproach ask US TO CALL THEM ON TELEPHONETAPE show WE HAD BEEN clear TO feetALSO show WE readback feetcontrol WAS decertifyTHIS happen AT THE END OF A longday hour', 'AN UNUSUAL ODOR WAS note IN THE COCKPIT BY flightcrewA FEW minute LATER THE flightattendant notify THE CREW THAT SHE notice SMOKE IN THE CABINTHE captain THEN verify visual THAT THERE WAS SMOKE IN THE CABINairtrafficcontrol WAS notify situate AND THAT AN IMMEDIATE land WAS NECESSARYTHE aircraft WAS land AND passenger WERE evacuate FROM aircraftTHEY WERE THEN bus TO TERMINAL']\n"
          ]
        }
      ]
    },
    {
      "cell_type": "code",
      "source": [
        "print(len(text_list))\n",
        "print(text_list[0])\n",
        "print(text_list[-1])"
      ],
      "metadata": {
        "colab": {
          "base_uri": "https://localhost:8080/"
        },
        "id": "hl59LRpTLsx5",
        "outputId": "57c63539-3353-4cab-ae85-c423da4ec790"
      },
      "execution_count": null,
      "outputs": [
        {
          "output_type": "stream",
          "name": "stdout",
          "text": [
            "7077\n",
            "AFTER takeoff ON runway A loudnoise WAS hear come FROM FRONT AREA OF aircraftFOR A WHILE I AND CREW THOUGHT IT WAS THE AIR drive generate THAT deploy FROM right NOSE OF aircraftUPON FURTHER troubleshoot FOUND THAT THE AIR drive generate COULD NOT HAVE deploy DUE TO ABSENCE OF icon AND message ON THE engineindicationandcrewalertingsystem systemWE immediate return TO THE airport FOR AN UNEVENTFUL landFURTHER examine AT THE GATE show THE OXYGEN accesspanel pop OPEN AFTER takeoff cause THE NOISEPRIOR TO flight THE normalpreflight show NO AJAR OR OPEN panel ON THE aircraftmoderateturbulence WAS encounter AFTER takeoffdue TO STRONG crosswind AND lowlevelwindshearadvisories IN EFFECT\n",
            "clear instrumentlandingsystemrunway wind degree AT knot gust TO knotdeclinevector instrumentlandingsystemrunway moderateturbulence ON DOWNWINDclear instrumentlandingsystemrunway APPROXIMATE mile OUTSIDE mark GEAR DOWN flap degree SPEED knot AUTOPILOT engage locate AND GLIDESLOPE captureWITHOUT warn throttle CAME TO IDLE AS SPEED rapid increase TO knotdisconnect AUTOPILOT initiate CLIMBSPEED reach knotDECISION TO goaraoundgearup THEN SPEED rapid decay TO knot apply fullpowerencounter severeturbulence DURING goaraoundflightdirector give confuse command LATER realize TOGA press ABOVE FEET SO NO goaraound MODEdifficultymaintaining assignedaltitude OF FEETissue CLIMB TO FEETfirstofficer crewresourcemanagement COMMENTARY excel AND VERY helpWINDSHEAR train IN SIM ALSO allow EARLY recognize OF PROBLEMAFTER OUR goaraound airtrafficcontrol report MICROBURST AT THE AIRPORTI SUSPECT WE encounter IT ON FINALvector TO HOLD AT HRV NEAR AIRPORTAFTER sever success approach BY OTHER AIRCRAFT WE WERE clear instrumentlandingsystemrunway AGAIN AND land uneventfulmaintain inform OF FLAP OVERSPEED AND severeturbulencediscuss WITH dispatch AFTER land reveal HE DID NOT SUSPECT severeweathersever OTHER AIRCRAFT WENT AROUND AND A FEW divertfirstofficer CLEAR COMMENTARY WAS SUPERIOR AND extreme help THROUGHOUT\n"
          ]
        }
      ]
    },
    {
      "cell_type": "markdown",
      "source": [
        "On initialise les prédictions"
      ],
      "metadata": {
        "id": "go0Zec68NjCK"
      }
    },
    {
      "cell_type": "code",
      "source": [
        "model.eval()\n",
        "device = torch.device(\"cuda\" if torch.cuda.is_available() else \"cpu\")\n",
        "model.to(device)"
      ],
      "metadata": {
        "colab": {
          "base_uri": "https://localhost:8080/",
          "height": 179
        },
        "collapsed": true,
        "id": "ZShI_JT0O_9v",
        "outputId": "0de825b1-a60a-447f-9227-16075a8fc815"
      },
      "execution_count": null,
      "outputs": [
        {
          "output_type": "error",
          "ename": "NameError",
          "evalue": "name 'model' is not defined",
          "traceback": [
            "\u001b[0;31m---------------------------------------------------------------------------\u001b[0m",
            "\u001b[0;31mNameError\u001b[0m                                 Traceback (most recent call last)",
            "\u001b[0;32m<ipython-input-1-6ecd4ea6f787>\u001b[0m in \u001b[0;36m<cell line: 0>\u001b[0;34m()\u001b[0m\n\u001b[0;32m----> 1\u001b[0;31m \u001b[0mmodel\u001b[0m\u001b[0;34m.\u001b[0m\u001b[0meval\u001b[0m\u001b[0;34m(\u001b[0m\u001b[0;34m)\u001b[0m\u001b[0;34m\u001b[0m\u001b[0;34m\u001b[0m\u001b[0m\n\u001b[0m\u001b[1;32m      2\u001b[0m \u001b[0mdevice\u001b[0m \u001b[0;34m=\u001b[0m \u001b[0mtorch\u001b[0m\u001b[0;34m.\u001b[0m\u001b[0mdevice\u001b[0m\u001b[0;34m(\u001b[0m\u001b[0;34m\"cuda\"\u001b[0m \u001b[0;32mif\u001b[0m \u001b[0mtorch\u001b[0m\u001b[0;34m.\u001b[0m\u001b[0mcuda\u001b[0m\u001b[0;34m.\u001b[0m\u001b[0mis_available\u001b[0m\u001b[0;34m(\u001b[0m\u001b[0;34m)\u001b[0m \u001b[0;32melse\u001b[0m \u001b[0;34m\"cpu\"\u001b[0m\u001b[0;34m)\u001b[0m\u001b[0;34m\u001b[0m\u001b[0;34m\u001b[0m\u001b[0m\n\u001b[1;32m      3\u001b[0m \u001b[0mmodel\u001b[0m\u001b[0;34m.\u001b[0m\u001b[0mto\u001b[0m\u001b[0;34m(\u001b[0m\u001b[0mdevice\u001b[0m\u001b[0;34m)\u001b[0m\u001b[0;34m\u001b[0m\u001b[0;34m\u001b[0m\u001b[0m\n",
            "\u001b[0;31mNameError\u001b[0m: name 'model' is not defined"
          ]
        }
      ]
    },
    {
      "cell_type": "markdown",
      "source": [
        "On passe nos textes dans le modèle pour la prédiction"
      ],
      "metadata": {
        "id": "z-jLl7tQRhCY"
      }
    },
    {
      "cell_type": "code",
      "source": [
        "all_probabilities = []\n",
        "\n",
        "for text in text_list:\n",
        "    inputs = tokenizer(text, padding=True, truncation=True, return_tensors=\"pt\")\n",
        "    inputs = inputs.to(device)\n",
        "\n",
        "    with torch.no_grad():  # On ne calcule pas les gradients\n",
        "        outputs = model(**inputs)\n",
        "\n",
        "    logits = outputs.logits\n",
        "    probabilities = torch.sigmoid(logits)  # Appliquer la sigmoïde pour obtenir des probabilités\n",
        "\n",
        "    all_probabilities.append(probabilities)\n"
      ],
      "metadata": {
        "id": "Qa6Akqtsgygc",
        "colab": {
          "base_uri": "https://localhost:8080/",
          "height": 214
        },
        "outputId": "eafd8b66-e8f5-49b4-f4e8-d143efa54dab"
      },
      "execution_count": null,
      "outputs": [
        {
          "output_type": "error",
          "ename": "NameError",
          "evalue": "name 'text_list' is not defined",
          "traceback": [
            "\u001b[0;31m---------------------------------------------------------------------------\u001b[0m",
            "\u001b[0;31mNameError\u001b[0m                                 Traceback (most recent call last)",
            "\u001b[0;32m<ipython-input-2-6eea6ed1ffb4>\u001b[0m in \u001b[0;36m<cell line: 0>\u001b[0;34m()\u001b[0m\n\u001b[1;32m      1\u001b[0m \u001b[0mall_probabilities\u001b[0m \u001b[0;34m=\u001b[0m \u001b[0;34m[\u001b[0m\u001b[0;34m]\u001b[0m\u001b[0;34m\u001b[0m\u001b[0;34m\u001b[0m\u001b[0m\n\u001b[1;32m      2\u001b[0m \u001b[0;34m\u001b[0m\u001b[0m\n\u001b[0;32m----> 3\u001b[0;31m \u001b[0;32mfor\u001b[0m \u001b[0mtext\u001b[0m \u001b[0;32min\u001b[0m \u001b[0mtext_list\u001b[0m\u001b[0;34m:\u001b[0m\u001b[0;34m\u001b[0m\u001b[0;34m\u001b[0m\u001b[0m\n\u001b[0m\u001b[1;32m      4\u001b[0m     \u001b[0minputs\u001b[0m \u001b[0;34m=\u001b[0m \u001b[0mtokenizer\u001b[0m\u001b[0;34m(\u001b[0m\u001b[0mtext\u001b[0m\u001b[0;34m,\u001b[0m \u001b[0mpadding\u001b[0m\u001b[0;34m=\u001b[0m\u001b[0;32mTrue\u001b[0m\u001b[0;34m,\u001b[0m \u001b[0mtruncation\u001b[0m\u001b[0;34m=\u001b[0m\u001b[0;32mTrue\u001b[0m\u001b[0;34m,\u001b[0m \u001b[0mreturn_tensors\u001b[0m\u001b[0;34m=\u001b[0m\u001b[0;34m\"pt\"\u001b[0m\u001b[0;34m)\u001b[0m\u001b[0;34m\u001b[0m\u001b[0;34m\u001b[0m\u001b[0m\n\u001b[1;32m      5\u001b[0m     \u001b[0minputs\u001b[0m \u001b[0;34m=\u001b[0m \u001b[0minputs\u001b[0m\u001b[0;34m.\u001b[0m\u001b[0mto\u001b[0m\u001b[0;34m(\u001b[0m\u001b[0mdevice\u001b[0m\u001b[0;34m)\u001b[0m\u001b[0;34m\u001b[0m\u001b[0;34m\u001b[0m\u001b[0m\n",
            "\u001b[0;31mNameError\u001b[0m: name 'text_list' is not defined"
          ]
        }
      ]
    },
    {
      "cell_type": "markdown",
      "source": [
        "Sauvegarde des probabilités"
      ],
      "metadata": {
        "id": "KDweWPKaRbBV"
      }
    },
    {
      "cell_type": "code",
      "source": [
        "all_probabilities_array = np.array([tensor.cpu().numpy() for tensor in all_probabilities])\n",
        "np.save(\"all_probabilities.npy\", all_probabilities_array)"
      ],
      "metadata": {
        "id": "grtS5H6EPnJ4",
        "colab": {
          "base_uri": "https://localhost:8080/",
          "height": 161
        },
        "outputId": "a6c8a029-497d-4ec6-8e10-79a96b84245a"
      },
      "execution_count": null,
      "outputs": [
        {
          "output_type": "error",
          "ename": "NameError",
          "evalue": "name 'np' is not defined",
          "traceback": [
            "\u001b[0;31m---------------------------------------------------------------------------\u001b[0m",
            "\u001b[0;31mNameError\u001b[0m                                 Traceback (most recent call last)",
            "\u001b[0;32m<ipython-input-3-83dffcf18e76>\u001b[0m in \u001b[0;36m<cell line: 0>\u001b[0;34m()\u001b[0m\n\u001b[0;32m----> 1\u001b[0;31m \u001b[0mall_probabilities_array\u001b[0m \u001b[0;34m=\u001b[0m \u001b[0mnp\u001b[0m\u001b[0;34m.\u001b[0m\u001b[0marray\u001b[0m\u001b[0;34m(\u001b[0m\u001b[0;34m[\u001b[0m\u001b[0mtensor\u001b[0m\u001b[0;34m.\u001b[0m\u001b[0mcpu\u001b[0m\u001b[0;34m(\u001b[0m\u001b[0;34m)\u001b[0m\u001b[0;34m.\u001b[0m\u001b[0mnumpy\u001b[0m\u001b[0;34m(\u001b[0m\u001b[0;34m)\u001b[0m \u001b[0;32mfor\u001b[0m \u001b[0mtensor\u001b[0m \u001b[0;32min\u001b[0m \u001b[0mall_probabilities\u001b[0m\u001b[0;34m]\u001b[0m\u001b[0;34m)\u001b[0m\u001b[0;34m\u001b[0m\u001b[0;34m\u001b[0m\u001b[0m\n\u001b[0m\u001b[1;32m      2\u001b[0m \u001b[0mnp\u001b[0m\u001b[0;34m.\u001b[0m\u001b[0msave\u001b[0m\u001b[0;34m(\u001b[0m\u001b[0;34m\"all_probabilities.npy\"\u001b[0m\u001b[0;34m,\u001b[0m \u001b[0mall_probabilities_array\u001b[0m\u001b[0;34m)\u001b[0m\u001b[0;34m\u001b[0m\u001b[0;34m\u001b[0m\u001b[0m\n",
            "\u001b[0;31mNameError\u001b[0m: name 'np' is not defined"
          ]
        }
      ]
    },
    {
      "cell_type": "markdown",
      "source": [
        "all_probabilities = [\n",
        "    tensor([0.12, 0.45, 0.67, ..., 0.89]),  # Probabilités pour le 1er texte\n",
        "    tensor([0.34, 0.23, 0.78, ..., 0.56]),  # Probabilités pour le 2e texte\n",
        "    ...\n",
        "    tensor([0.56, 0.12, 0.34, ..., 0.78]),  # Probabilités pour le 7077e texte\n",
        "]. On a une liste de tenseur de probabilité. Il y a autant delements que de textes dans cette liste. Et chaque tenseur est de dimension 21."
      ],
      "metadata": {
        "id": "4Mh_tPk0RKxk"
      }
    },
    {
      "cell_type": "code",
      "source": [
        "new_threshold = 0.3\n",
        "df_submission = pd.DataFrame(columns=label_columns)\n",
        "\n",
        "for row in all_probabilities_array:\n",
        "    mask = row >= new_threshold\n",
        "\n",
        "    if mask.any():  # S'il y a des probabilités supérieures au seuil\n",
        "        thresholded_row = mask.astype(int)\n",
        "    else:  # Sinon, on prend l'étiquette avec la probabilité la plus élevée\n",
        "        top_1_index = np.argmax(row)\n",
        "        thresholded_row = np.zeros(len(label_columns), dtype=int)\n",
        "        thresholded_row[top_1_index] = 1\n",
        "\n",
        "    thresholded_row = thresholded_row.reshape(1, -1)\n",
        "\n",
        "    # Utilisation de pd.concat pour ajouter une ligne\n",
        "    df_submission = pd.concat([df_submission, pd.DataFrame(thresholded_row, columns=label_columns)], ignore_index=True)\n",
        "\n",
        "df_submission = df_submission.astype(int)\n"
      ],
      "metadata": {
        "id": "5gSvkxrPhzeo",
        "collapsed": true,
        "colab": {
          "base_uri": "https://localhost:8080/",
          "height": 214
        },
        "outputId": "f06effd3-a8e3-4216-8751-16f211936155"
      },
      "execution_count": null,
      "outputs": [
        {
          "output_type": "error",
          "ename": "NameError",
          "evalue": "name 'pd' is not defined",
          "traceback": [
            "\u001b[0;31m---------------------------------------------------------------------------\u001b[0m",
            "\u001b[0;31mNameError\u001b[0m                                 Traceback (most recent call last)",
            "\u001b[0;32m<ipython-input-4-6c1b816b2a48>\u001b[0m in \u001b[0;36m<cell line: 0>\u001b[0;34m()\u001b[0m\n\u001b[1;32m      1\u001b[0m \u001b[0mnew_threshold\u001b[0m \u001b[0;34m=\u001b[0m \u001b[0;36m0.3\u001b[0m\u001b[0;34m\u001b[0m\u001b[0;34m\u001b[0m\u001b[0m\n\u001b[0;32m----> 2\u001b[0;31m \u001b[0mdf_submission\u001b[0m \u001b[0;34m=\u001b[0m \u001b[0mpd\u001b[0m\u001b[0;34m.\u001b[0m\u001b[0mDataFrame\u001b[0m\u001b[0;34m(\u001b[0m\u001b[0mcolumns\u001b[0m\u001b[0;34m=\u001b[0m\u001b[0mlabel_columns\u001b[0m\u001b[0;34m)\u001b[0m\u001b[0;34m\u001b[0m\u001b[0;34m\u001b[0m\u001b[0m\n\u001b[0m\u001b[1;32m      3\u001b[0m \u001b[0;34m\u001b[0m\u001b[0m\n\u001b[1;32m      4\u001b[0m \u001b[0;32mfor\u001b[0m \u001b[0mrow\u001b[0m \u001b[0;32min\u001b[0m \u001b[0mall_probabilities_array\u001b[0m\u001b[0;34m:\u001b[0m\u001b[0;34m\u001b[0m\u001b[0;34m\u001b[0m\u001b[0m\n\u001b[1;32m      5\u001b[0m     \u001b[0mmask\u001b[0m \u001b[0;34m=\u001b[0m \u001b[0mrow\u001b[0m \u001b[0;34m>=\u001b[0m \u001b[0mnew_threshold\u001b[0m\u001b[0;34m\u001b[0m\u001b[0;34m\u001b[0m\u001b[0m\n",
            "\u001b[0;31mNameError\u001b[0m: name 'pd' is not defined"
          ]
        }
      ]
    },
    {
      "cell_type": "markdown",
      "source": [
        "Affichage du dataframe des prédictions"
      ],
      "metadata": {
        "id": "QKlm14NBTm78"
      }
    },
    {
      "cell_type": "code",
      "source": [
        "# Afficher les premières lignes du DataFrame\n",
        "print(df_submission.head())\n",
        "\n",
        "# Sauvegarder le DataFrame dans un fichier CSV (si tu veux l'examiner plus tard)\n",
        "df_submission.to_csv('predictions2.csv', index=False)\n"
      ],
      "metadata": {
        "colab": {
          "base_uri": "https://localhost:8080/"
        },
        "id": "kRr20fyYTiCh",
        "outputId": "3ca0ef92-918a-49d4-bf2f-e98dcd5f3a6c"
      },
      "execution_count": null,
      "outputs": [
        {
          "output_type": "stream",
          "name": "stdout",
          "text": [
            "   0  1  2  3  4  5  6  7  8  9  ...  12  13  14  15  16  17  18  19  20  21\n",
            "0  0  0  0  0  0  0  0  0  0  0  ...   0   0   0   0   0   0   1   0   0   0\n",
            "1  0  1  0  0  1  0  0  0  0  0  ...   0   0   0   0   0   1   1   0   0   0\n",
            "2  1  1  0  0  0  0  0  0  0  0  ...   0   0   0   0   0   0   1   0   0   0\n",
            "3  0  1  0  0  0  1  1  0  0  0  ...   0   0   0   0   0   0   0   0   0   0\n",
            "4  0  0  0  0  0  0  0  0  0  0  ...   0   0   0   0   0   0   1   1   0   0\n",
            "\n",
            "[5 rows x 22 columns]\n"
          ]
        }
      ]
    },
    {
      "cell_type": "markdown",
      "source": [
        "Tracé de l'histogramme des sommes des valeurs"
      ],
      "metadata": {
        "id": "iXntOafEfNQ6"
      }
    },
    {
      "cell_type": "code",
      "source": [
        "import matplotlib.pyplot as plt  # Assure-toi que cette ligne est incluse\n",
        "\n",
        "row_sums = df_submission.sum(axis=1)\n",
        "\n",
        "# Tracer l'histogramme avec des bins plus adaptés\n",
        "plt.hist(row_sums, bins=range(0, 11), edgecolor='k', align='left')\n",
        "\n",
        "# Ajouter des étiquettes sur les axes\n",
        "plt.xlabel('Sum of Row Values')\n",
        "plt.ylabel('Frequency')\n",
        "plt.title('Distribution of Row Sums')\n",
        "\n",
        "# Ajouter des étiquettes avec le nombre de valeurs dans chaque bin\n",
        "n, bins, patches = plt.hist(row_sums, bins=range(0, 11), edgecolor='k', align='left')\n",
        "\n",
        "# Placer les labels sur chaque barre\n",
        "for i in range(len(patches)):\n",
        "    plt.text(patches[i].get_x() + patches[i].get_width() / 2, n[i],\n",
        "             str(int(n[i])), ha='center', va='bottom')\n",
        "\n",
        "# Afficher le graphique\n",
        "plt.show()\n"
      ],
      "metadata": {
        "id": "95-AwAzllMkB",
        "colab": {
          "base_uri": "https://localhost:8080/",
          "height": 472
        },
        "outputId": "a04f8877-88af-46c1-c650-d4ad1e411331",
        "collapsed": true
      },
      "execution_count": null,
      "outputs": [
        {
          "output_type": "display_data",
          "data": {
            "text/plain": [
              "<Figure size 640x480 with 1 Axes>"
            ],
            "image/png": "[encoded data removed]"
          },
          "metadata": {}
        }
      ]
    },
    {
      "cell_type": "markdown",
      "source": [
        "# Binarisation de TestTruth.csv"
      ],
      "metadata": {
        "id": "UfB4pZp4cEGz"
      }
    },
    {
      "cell_type": "code",
      "source": [
        "import pandas as pd\n",
        "\n",
        "# Charger le fichier CSV\n",
        "df = pd.read_csv('TestTruth.csv',header=None)\n",
        "\n",
        "# Remplacer les -1 par 0\n",
        "df = df.replace(-1, 0)\n",
        "\n",
        "# Sauvegarder le tableau modifié dans un nouveau fichier CSV\n",
        "df.to_csv('TestTruth_modifiedF.csv', index=False)\n",
        "\n",
        "\n"
      ],
      "metadata": {
        "id": "mEGmZa6zWbTs"
      },
      "execution_count": null,
      "outputs": []
    },
    {
      "cell_type": "markdown",
      "source": [
        "# Comparaison avec la vérité terrain et calcul du F1-score"
      ],
      "metadata": {
        "id": "-l2ItWt7cSip"
      }
    },
    {
      "cell_type": "code",
      "source": [
        "import pandas as pd\n",
        "from sklearn.metrics import precision_score, recall_score, f1_score, accuracy_score\n",
        "\n",
        "# Charger les prédictions et la vérité terrain\n",
        "predictions = pd.read_csv('submission.csv', header=0) #Header=0 ca veut dire que la premiere ligne représente les labels\n",
        "truth = pd.read_csv('TestTruth_modifiedF.csv', header=0)\n",
        "\n",
        "# Assurer que les dimensions des données sont les mêmes\n",
        "assert predictions.shape == truth.shape, \"Les dimensions des prédictions et de la vérité terrain ne correspondent pas.\"\n",
        "\n",
        "# Calculer les métriques\n",
        "precision = precision_score(truth, predictions, average='samples')\n",
        "recall = recall_score(truth, predictions, average='samples')\n",
        "f1 = f1_score(truth, predictions, average='samples')\n",
        "\n",
        "# Afficher les résultats\n",
        "print(f\"Précision moyenne: {precision:.4f}\")\n",
        "print(f\"Rappel moyen: {recall:.4f}\")\n",
        "print(f\"F-mesure moyenne: {f1:.4f}\")\n"
      ],
      "metadata": {
        "colab": {
          "base_uri": "https://localhost:8080/"
        },
        "id": "YDwLED_VcRdf",
        "outputId": "f775052f-1b40-477f-ae81-99cca76ba717"
      },
      "execution_count": null,
      "outputs": [
        {
          "output_type": "stream",
          "name": "stdout",
          "text": [
            "Précision moyenne: 0.6228\n",
            "Rappel moyen: 0.8220\n",
            "F-mesure moyenne: 0.6662\n"
          ]
        }
      ]
    },
    {
      "cell_type": "markdown",
      "source": [
        "# Optimisation du Treshhold"
      ],
      "metadata": {
        "id": "9TfplyAzl_FX"
      }
    },
    {
      "cell_type": "code",
      "source": [
        "import numpy as np\n",
        "import pandas as pd\n",
        "from sklearn.metrics import f1_score\n",
        "\n",
        "# Charger les données de vérité terrain\n",
        "truth = pd.read_csv('TestTruth_modifiedF.csv', header=0)\n",
        "\n",
        "# Vérifier les dimensions des prédictions et de la vérité terrain\n",
        "#print(f\"Dimensions de all_probabilities_array: {np.array(all_probabilities_array).shape}\")\n",
        "#print(f\"Dimensions de truth: {truth.shape}\")\n",
        "\n",
        "# Aplatir all_probabilities_array de (7077, 1, 22) à (7077, 22)\n",
        "all_probabilities_array = np.squeeze(all_probabilities_array)  # Supprime la dimension de taille 1\n",
        "\n",
        "# Vérifier que les dimensions sont maintenant compatibles\n",
        "assert all_probabilities_array.shape == truth.shape, \"Les dimensions des prédictions et de la vérité terrain ne correspondent pas.\"\n",
        "\n",
        "# Initialiser les colonnes des labels\n",
        "label_columns = truth.columns  # Cela suppose que 'truth' contient les étiquettes binaires\n",
        "\n",
        "# Fonction pour évaluer un seuil donné\n",
        "def evaluate_threshold(predictions, truth, threshold):\n",
        "    # Appliquer le seuil pour obtenir des prédictions binaires\n",
        "    thresholded_predictions = (predictions >= threshold).astype(int)\n",
        "\n",
        "    # Calculer le score F1\n",
        "    return f1_score(truth, thresholded_predictions, average='samples')  # Moyenne pour multilabel\n",
        "\n",
        "# Tester différents seuils de 0 à 1\n",
        "thresholds = np.linspace(0, 1, 101)  # De 0 à 1 avec un pas de 0.01\n",
        "f1_scores = []\n",
        "\n",
        "# Calculer les scores F1 pour chaque seuil\n",
        "for threshold in thresholds:\n",
        "    f1 = evaluate_threshold(all_probabilities_array, truth.values, threshold)\n",
        "    f1_scores.append(f1)\n",
        "\n",
        "print(f1_scores)\n",
        "# Trouver le seuil optimal qui maximise le score F1\n",
        "optimal_threshold = thresholds[np.argmax(f1_scores)]\n",
        "print(f\"Le seuil optimal est : {optimal_threshold}\")\n",
        "print(f\"Le score F1 correspondant est : {np.max(f1_scores)}\")"
      ],
      "metadata": {
        "colab": {
          "base_uri": "https://localhost:8080/"
        },
        "id": "UcJ07-bol-yq",
        "outputId": "7b612bb9-8a35-4583-ad7a-1a993022e6d8"
      },
      "execution_count": null,
      "outputs": [
        {
          "output_type": "stream",
          "name": "stdout",
          "text": [
            "[0.15949419820719674, 0.31888160081939176, 0.41866487563079596, 0.4799501909285264, 0.5202415449302099, 0.5466037386195952, 0.567463998773574, 0.5835617127192636, 0.5958491308303698, 0.6065954341216921, 0.6156708942985268, 0.6224754638506991, 0.6285226817788694, 0.6340505992672387, 0.6384149807865648, 0.6421408748479699, 0.6454870101891521, 0.6483374324969717, 0.6511911947078892, 0.6530345599997497, 0.6551280500118492, 0.6567915655583662, 0.6592091689933498, 0.6610198483050889, 0.6616897826757439, 0.6627508791162383, 0.6633174755702995, 0.6641847758865189, 0.6653740086781256, 0.665851364443739, 0.6662314021682397, 0.6659195415765996, 0.666065883075209, 0.665762961152957, 0.6652690812398315, 0.6650361276580014, 0.6644176984681436, 0.6636301799718503, 0.6623403302928526, 0.6615058179068353, 0.6614100765859986, 0.6608495040669691, 0.6593744801036026, 0.6587477600194853, 0.6574070529348189, 0.6560622474569062, 0.6547774215641956, 0.6543590897978351, 0.6533603970017704, 0.6512134710311904, 0.6497204324885545, 0.6472433717664748, 0.6447502029316358, 0.6423421114391865, 0.6397258786618685, 0.6354588701769711, 0.6309751111150009, 0.6282245434216608, 0.625800975906953, 0.6228221780574472, 0.6185541194867181, 0.6140202056904049, 0.6103831161694664, 0.6066893933786685, 0.602140309410339, 0.5983075470994081, 0.5943271610715444, 0.5875954278243384, 0.5818484202121337, 0.5768974388304613, 0.5717476242062931, 0.5654369957676443, 0.5581605738239905, 0.5511273945780092, 0.5438237213777697, 0.5366536129783268, 0.5284935998797805, 0.5224324942637787, 0.5138533949682741, 0.5021582322345357, 0.49177819495750824, 0.4826540705302893, 0.47236890799841197, 0.4633359575284119, 0.4512656694725368, 0.43838558173021924, 0.42212162807754167, 0.40578208863499243, 0.3853877192156124, 0.36324960581001275, 0.3366702104514737, 0.3072807956021182, 0.2729260447997201, 0.23279570977748168, 0.18592859497904007, 0.14323866044934294, 0.09773915500918469, 0.056149027365644574, 0.012754933823183079, 0.0, 0.0]\n",
            "Le seuil optimal est : 0.3\n",
            "Le score F1 correspondant est : 0.6662314021682397\n"
          ]
        }
      ]
    }
  ]
}